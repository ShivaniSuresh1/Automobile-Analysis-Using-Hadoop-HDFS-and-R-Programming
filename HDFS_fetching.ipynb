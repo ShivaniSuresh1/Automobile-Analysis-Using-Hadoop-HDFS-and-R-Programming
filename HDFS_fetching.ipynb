{
 "cells": [
  {
   "cell_type": "code",
   "execution_count": 1,
   "id": "3dcd2fd7-4302-41a8-8ffd-a2d6f85392d7",
   "metadata": {},
   "outputs": [
    {
     "data": {
      "text/html": [],
      "text/latex": [],
      "text/markdown": [],
      "text/plain": [
       "character(0)"
      ]
     },
     "metadata": {},
     "output_type": "display_data"
    },
    {
     "data": {
      "text/html": [],
      "text/latex": [],
      "text/markdown": [],
      "text/plain": [
       "character(0)"
      ]
     },
     "metadata": {},
     "output_type": "display_data"
    }
   ],
   "source": [
    "hadoop_command <- \"hadoop fs -mkdir /user\"\n",
    "system(hadoop_command, intern=TRUE)\n",
    "hadoop_command <- \"hadoop fs -mkdir /user/project\"\n",
    "system(hadoop_command, intern=TRUE)"
   ]
  },
  {
   "cell_type": "markdown",
   "id": "cae0bf6a-b968-4ccf-9429-41b3e66b25cf",
   "metadata": {},
   "source": [
    "# Uploading files onto HDFS"
   ]
  },
  {
   "cell_type": "code",
   "execution_count": 2,
   "id": "5892413d-7e41-4777-8f20-42060afe79b2",
   "metadata": {},
   "outputs": [
    {
     "data": {
      "text/html": [],
      "text/latex": [],
      "text/markdown": [],
      "text/plain": [
       "character(0)"
      ]
     },
     "metadata": {},
     "output_type": "display_data"
    }
   ],
   "source": [
    "hadoop_command <- \"hadoop fs -put /home/shivani/Downloads/Mall_Customers.csv /user/project\"\n",
    "system(hadoop_command, intern=TRUE)"
   ]
  },
  {
   "cell_type": "code",
   "execution_count": 3,
   "id": "2657f124-4c89-402d-b68f-17ebd5f06ddf",
   "metadata": {},
   "outputs": [
    {
     "data": {
      "text/html": [],
      "text/latex": [],
      "text/markdown": [],
      "text/plain": [
       "character(0)"
      ]
     },
     "metadata": {},
     "output_type": "display_data"
    }
   ],
   "source": [
    "hadoop_command <- \"hadoop fs -put /home/shivani/Downloads/validate.csv /user/project\"\n",
    "system(hadoop_command, intern=TRUE)"
   ]
  },
  {
   "cell_type": "code",
   "execution_count": 4,
   "id": "77e69cff-f10b-419e-b3c4-0a91805816e1",
   "metadata": {},
   "outputs": [
    {
     "data": {
      "text/html": [],
      "text/latex": [],
      "text/markdown": [],
      "text/plain": [
       "character(0)"
      ]
     },
     "metadata": {},
     "output_type": "display_data"
    }
   ],
   "source": [
    "hadoop_command <- \"hadoop fs -put /home/shivani/Downloads/indian-auto-mpg.csv /user/project\"\n",
    "system(hadoop_command, intern=TRUE)"
   ]
  },
  {
   "cell_type": "markdown",
   "id": "06a26112-0db8-46a3-ae0b-eb1f7f754144",
   "metadata": {},
   "source": [
    "# Downloading from HDFS onto respective folder for analysis"
   ]
  },
  {
   "cell_type": "code",
   "execution_count": 8,
   "id": "7be74265-a732-4ab7-924a-d84696ec7a0d",
   "metadata": {},
   "outputs": [
    {
     "data": {
      "text/html": [],
      "text/latex": [],
      "text/markdown": [],
      "text/plain": [
       "character(0)"
      ]
     },
     "metadata": {},
     "output_type": "display_data"
    }
   ],
   "source": [
    "hadoop_command <- \"hadoop fs -get /user/project/Mall_Customers.csv /home/shivani/project\" \n",
    "system(hadoop_command, intern=TRUE)"
   ]
  },
  {
   "cell_type": "code",
   "execution_count": 9,
   "id": "5be6b0f2-796c-4e5c-a4d1-fd9adaaffc4d",
   "metadata": {},
   "outputs": [
    {
     "data": {
      "text/html": [],
      "text/latex": [],
      "text/markdown": [],
      "text/plain": [
       "character(0)"
      ]
     },
     "metadata": {},
     "output_type": "display_data"
    }
   ],
   "source": [
    "hadoop_command <- \"hadoop fs -get /user/project/validate.csv /home/shivani/project\" \n",
    "system(hadoop_command, intern=TRUE)"
   ]
  },
  {
   "cell_type": "code",
   "execution_count": 10,
   "id": "1e9a95cb-024a-4a55-b7e0-94f35eaaf858",
   "metadata": {},
   "outputs": [
    {
     "data": {
      "text/html": [],
      "text/latex": [],
      "text/markdown": [],
      "text/plain": [
       "character(0)"
      ]
     },
     "metadata": {},
     "output_type": "display_data"
    }
   ],
   "source": [
    "hadoop_command <- \"hadoop fs -get /user/project/indian-auto-mpg.csv /home/shivani/project\" \n",
    "system(hadoop_command, intern=TRUE)"
   ]
  },
  {
   "cell_type": "code",
   "execution_count": null,
   "id": "758ccaa0-865d-45bc-b23b-c1dc9a7d5333",
   "metadata": {},
   "outputs": [],
   "source": []
  }
 ],
 "metadata": {
  "kernelspec": {
   "display_name": "R",
   "language": "R",
   "name": "ir"
  },
  "language_info": {
   "codemirror_mode": "r",
   "file_extension": ".r",
   "mimetype": "text/x-r-source",
   "name": "R",
   "pygments_lexer": "r",
   "version": "3.6.3"
  }
 },
 "nbformat": 4,
 "nbformat_minor": 5
}
